{
 "cells": [
  {
   "cell_type": "markdown",
   "metadata": {},
   "source": [
    "# Clasificador de gestos de manos \n",
    "\n",
    "- Curso: INFO257 Inteligencia Artificial\n",
    "- Profesor: Pablo Huijse \n",
    "- Consultas por slack o correo: phuijse at inf dot uach dot cl "
   ]
  },
  {
   "cell_type": "markdown",
   "metadata": {},
   "source": [
    "## Objetivo\n",
    "\n",
    "El objetivo de esta actividad es entrenar una red convolucional para clasificar gestos de manos \n",
    "\n",
    "Se consideran los siguientes tres gestos\n",
    "\n",
    "<table>\n",
    "    <tr>\n",
    "        <td>\n",
    "            <img src=\"img/1.jpg\">\n",
    "        </td>\n",
    "        <td>\n",
    "            <img src=\"img/2.jpg\">\n",
    "        </td>\n",
    "        <td>\n",
    "            <img src=\"img/3.jpg\">\n",
    "        </td>\n",
    "    </tr>\n",
    "</table>\n",
    "\n",
    "1. Un dedo levantado\n",
    "1. Dos dedos levantados\n",
    "1. Tres dedos levantados\n",
    "\n",
    "Más una clase adicional que corresponde a \"fondo vacío\", totalizando cuatro clases a discriminar\n"
   ]
  },
  {
   "cell_type": "markdown",
   "metadata": {},
   "source": [
    "## Datos\n",
    "\n",
    "Para resolver esta tarea se le ha proporcionado una base de datos que puede descargar en el siguiente enlace: \n",
    "\n",
    "> https://drive.google.com/file/d/1m9fKMYpUX24sB9PijXq2g54EBxe2W-eO/view?usp=sharing\n",
    "\n",
    "La base de datos ya está separada en conjuntos de entrenamiento, validación y prueba\n",
    "\n",
    "\n"
   ]
  },
  {
   "cell_type": "markdown",
   "metadata": {},
   "source": [
    "## Instrucciones generales\n",
    "\n",
    "- Se trabajará en grupos de dos personas\n",
    "- El grupo debe crear un repositorio privado en www.github.com \n",
    "- Invite a su profesor como colaborador (usuario: phuijse)\n",
    "- No suba los datos al repositorio, suba sólo sus códigos fuente y reportes de resultado\n",
    "- Se evaluará en base al último *commit* del Lunes 10 de Agosto de 2020\n",
    "- Desarrolle en PyTorch\n",
    "- [Sean honestos](https://www.acm.org/about-acm/code-of-ethics-in-spanish)\n"
   ]
  },
  {
   "cell_type": "markdown",
   "metadata": {},
   "source": [
    "\n",
    "## Instrucciones específicas\n",
    "\n",
    "1. Proponga, entrene y compare distintos modelos de red convolucional para resolver el problema\n",
    "    - Ajuste los parámetros del modelo usando el conjunto de entrenamiento \n",
    "    - Calibre sus hiper-parámetros y prevenga el sobreajuste evaluando en el conjunto de validación \n",
    "    - Compare los modelos finales midiendo su rendimiento en el conjunto de prueba\n",
    "    - Justifique sus decisiones de función de costo, optimizador, arquitectura, regularización, etc.\n",
    "1. Considere al menos dos modelos en su comparación\n",
    "    - Arquitectura convolucional diseñada por usted. Puede partir de una arquitectura existente (e.g. Lenet5) y proponer mejoras de forma iterativa\n",
    "    - Arquitectura ResNet18 pre-entrenada en ImageNet como extractor de características. Diseñe sólo el clasificador final y mantenga el modelo extractor congelado para entrenar\n",
    "1. Presente sus resultados usando matrices de confusión, *accuraccy* y *f1-score*. Considere 5 inicializaciones aleatorias y obtenga barras de error para sus métricas.\n",
    "1. Reporte su proceso, Analice sus resultados, discuta y concluya"
   ]
  },
  {
   "cell_type": "code",
   "execution_count": null,
   "metadata": {},
   "outputs": [],
   "source": []
  }
 ],
 "metadata": {
  "kernelspec": {
   "display_name": "Python 3",
   "language": "python",
   "name": "python3"
  },
  "language_info": {
   "codemirror_mode": {
    "name": "ipython",
    "version": 3
   },
   "file_extension": ".py",
   "mimetype": "text/x-python",
   "name": "python",
   "nbconvert_exporter": "python",
   "pygments_lexer": "ipython3",
   "version": "3.7.6"
  }
 },
 "nbformat": 4,
 "nbformat_minor": 4
}
