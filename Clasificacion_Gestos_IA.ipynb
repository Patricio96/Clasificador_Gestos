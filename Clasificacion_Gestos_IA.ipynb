{
 "cells": [
  {
   "cell_type": "markdown",
   "metadata": {
    "colab_type": "text",
    "id": "wQSpPNxIrOXx"
   },
   "source": [
    "# **Trabajo unidad 4: Clasificación de gestos de manos**\n",
    "# INFO257 Inteligencia Artificial\n",
    "\n",
    "**Integrantes**: *Patricio Canales*, *Eleazar Vásquez*"
   ]
  },
  {
   "cell_type": "markdown",
   "metadata": {
    "colab_type": "text",
    "id": "SUTVQAH485Jo"
   },
   "source": [
    "# **Descarga del dataset**"
   ]
  },
  {
   "cell_type": "code",
   "execution_count": 1,
   "metadata": {
    "colab": {},
    "colab_type": "code",
    "id": "m2CKOaYR-cHu"
   },
   "outputs": [],
   "source": [
    "import torch\n",
    "from torchvision.datasets import ImageFolder\n",
    "from torchvision import transforms \n",
    "from torch.utils.data import DataLoader\n",
    "import numpy as np\n",
    "from torchvision import models"
   ]
  },
  {
   "cell_type": "code",
   "execution_count": null,
   "metadata": {
    "colab": {
     "base_uri": "https://localhost:8080/",
     "height": 52
    },
    "colab_type": "code",
    "id": "h7q2Dlaz-s6X",
    "outputId": "54f53fbb-ca00-49dc-8805-4d1f641d24bd"
   },
   "outputs": [
    {
     "data": {
      "application/vnd.google.colaboratory.intrinsic+json": {
       "type": "string"
      },
      "text/plain": [
       "'Tesla P100-PCIE-16GB'"
      ]
     },
     "metadata": {
      "tags": []
     },
     "output_type": "display_data"
    },
    {
     "name": "stdout",
     "output_type": "stream",
     "text": [
      "cuda\n"
     ]
    }
   ],
   "source": [
    "if torch.cuda.is_available():\n",
    "  display(torch.cuda.get_device_name(0))\n",
    "\n",
    "device = torch.device(\"cuda\") if torch.cuda.is_available() else torch.device(\"cpu\")\n",
    "print(device)"
   ]
  },
  {
   "cell_type": "markdown",
   "metadata": {
    "colab_type": "text",
    "id": "M7iRMnmE91Pw"
   },
   "source": [
    "# Dataloaders"
   ]
  },
  {
   "cell_type": "code",
   "execution_count": null,
   "metadata": {
    "colab": {},
    "colab_type": "code",
    "id": "wU44vtFH9IIV"
   },
   "outputs": [],
   "source": [
    "train_transforms = transforms.Compose([transforms.RandomRotation(30),\n",
    "                                       transforms.RandomResizedCrop(224),\n",
    "                                       transforms.RandomHorizontalFlip(),\n",
    "                                       transforms.ToTensor(),\n",
    "                                       transforms.Normalize([0.485, 0.456, 0.406],\n",
    "                                                            [0.229, 0.224, 0.225])])\n",
    "\n",
    "valid_transforms = transforms.Compose([transforms.Resize(255),\n",
    "                                       transforms.CenterCrop(224),\n",
    "                                       transforms.ToTensor(),\n",
    "                                       transforms.Normalize([0.485, 0.456, 0.406],\n",
    "                                                            [0.229, 0.224, 0.225])])\n",
    "\n",
    "\n",
    "test_transforms = transforms.Compose([transforms.Resize(255),\n",
    "                                       transforms.CenterCrop(224),\n",
    "                                       transforms.ToTensor(),\n",
    "                                       transforms.Normalize([0.485, 0.456, 0.406],\n",
    "                                                            [0.229, 0.224, 0.225])])\n",
    "\n",
    "\n",
    "train_dataset = ImageFolder('gestos/train', transform=train_transforms)\n",
    "valid_dataset = ImageFolder('gestos/valid', transform=valid_transforms)\n",
    "test_dataset = ImageFolder('gestos/test', transform=test_transforms)\n",
    "\n",
    "train_loader = DataLoader(train_dataset, shuffle=True, batch_size=32)\n",
    "valid_loader = DataLoader(valid_dataset, shuffle=False, batch_size=256)\n",
    "test_loader = DataLoader(test_dataset, shuffle=True, batch_size=128)\n",
    "\n",
    "dataloaders_dict = {\"train\": train_loader, \"valid\": valid_loader}"
   ]
  },
  {
   "cell_type": "markdown",
   "metadata": {
    "colab_type": "text",
    "id": "xeTLlS6Q_CB5"
   },
   "source": [
    "# **Entrenamiento**\n",
    "\n",
    "\n",
    "\n",
    "\n",
    "Fuente código de entrenamiento https://pytorch.org/tutorials/beginner/finetuning_torchvision_models_tutorial.html"
   ]
  },
  {
   "cell_type": "code",
   "execution_count": null,
   "metadata": {
    "colab": {},
    "colab_type": "code",
    "id": "U_n0KEV2-TXn"
   },
   "outputs": [],
   "source": [
    "def train_model(model, dataloaders_dict, criterion, optimizer, num_epochs=30):\n",
    "  best_valid_loss = np.inf\n",
    "  for epoch in range(num_epochs):\n",
    "    print('Epoch {}/{}'.format(epoch, num_epochs - 1))\n",
    "    print('-' * 10)\n",
    "\n",
    "\n",
    "    for phase in ['train', 'valid']:\n",
    "      if phase == 'train':\n",
    "        model.train()\n",
    "      else:\n",
    "        model.eval()\n",
    "\n",
    "      running_loss = 0.0\n",
    "      running_corrects = 0\n",
    "\n",
    "      for inputs, labels in dataloaders_dict[phase]:\n",
    "        inputs = inputs.to(device)\n",
    "        labels = labels.to(device)\n",
    "\n",
    "        optimizer.zero_grad()\n",
    "\n",
    "        with torch.set_grad_enabled(phase == 'train'):\n",
    "          outputs = model(inputs)\n",
    "          loss = criterion(outputs, labels)\n",
    "\n",
    "          _, preds = torch.max(outputs, 1)\n",
    "          if phase == 'train':\n",
    "            loss.backward()\n",
    "            optimizer.step()\n",
    "\n",
    "          running_loss += loss.item() * inputs.size(0)\n",
    "          running_corrects += torch.sum(preds == labels.data)\n",
    "\n",
    "      epoch_loss = running_loss / len(dataloaders_dict[phase].dataset)\n",
    "      epoch_acc = running_corrects.double() / len(dataloaders_dict[phase].dataset)\n",
    "      if ( epoch_loss < best_valid_loss) and (phase == 'valid'):\n",
    "        print(\"entra a guardar...\")\n",
    "        best_valid_loss = epoch_loss\n",
    "        torch.save({'current_epoch': epoch,\n",
    "                    'model_state_dict': model.state_dict(),\n",
    "                    'optimizer_state_dict': optimizer.state_dict(),\n",
    "                    'current_valid_loss': epoch_loss\n",
    "                   }, 'best_model.pt')\n",
    "\n",
    "      print('{} Loss: {:.4f} Acc: {:.4f}'.format(phase, epoch_loss, epoch_acc))"
   ]
  },
  {
   "cell_type": "markdown",
   "metadata": {
    "colab_type": "text",
    "id": "YOq1Q_tp_rxH"
   },
   "source": [
    "# **Calculo de rendimiento**"
   ]
  },
  {
   "cell_type": "code",
   "execution_count": null,
   "metadata": {
    "colab": {},
    "colab_type": "code",
    "id": "UkAF-lyV_AV7"
   },
   "outputs": [],
   "source": [
    "def testing(model):\n",
    "  targets, predictions = [], []\n",
    "  for mbdata, label in test_loader:\n",
    "      mbdata, label = mbdata.to(device), label.to(device)\n",
    "      logits = model.forward(mbdata)\n",
    "      predictions.append(logits.argmax(dim=1).detach().cpu().numpy())     \n",
    "      targets.append(label.cpu().numpy()) \n",
    "  predictions = np.concatenate(predictions) \n",
    "  targets = np.concatenate(targets)\n",
    "\n",
    "  from sklearn.metrics import confusion_matrix, classification_report\n",
    "\n",
    "  cm = confusion_matrix(targets, predictions)\n",
    "  display(cm)\n",
    "  print(classification_report(targets, predictions))\n"
   ]
  },
  {
   "cell_type": "markdown",
   "metadata": {
    "colab_type": "text",
    "id": "KNdS30K6AeaR"
   },
   "source": [
    "# **Modelo ResNet**"
   ]
  },
  {
   "cell_type": "code",
   "execution_count": null,
   "metadata": {
    "colab": {},
    "colab_type": "code",
    "id": "gT7ozWMnAm-9"
   },
   "outputs": [],
   "source": [
    "resnet = models.resnet18(pretrained=True, progress=True)\n",
    "#display(resnet)"
   ]
  },
  {
   "cell_type": "code",
   "execution_count": null,
   "metadata": {
    "colab": {},
    "colab_type": "code",
    "id": "CKfsZF1dc-Lc"
   },
   "outputs": [],
   "source": [
    "for param in resnet.parameters(): \n",
    "    param.requires_grad = False\n",
    "\n",
    "neuronsResnet = resnet.fc.in_features"
   ]
  },
  {
   "cell_type": "code",
   "execution_count": null,
   "metadata": {
    "colab": {},
    "colab_type": "code",
    "id": "2aBLYevxAysh"
   },
   "outputs": [],
   "source": [
    "\n",
    "#resnet.fc = torch.nn.Linear(neuronsResnet, 4)\n",
    "resnet.fc = torch.nn.Sequential(torch.nn.Dropout(p=0.5, inplace=False),\n",
    "                                  torch.nn.Linear(in_features=neuronsResnet, out_features=256, bias=True),\n",
    "                                  torch.nn.ReLU(inplace=True),\n",
    "                                  torch.nn.Dropout(p=0.5, inplace=False),  \n",
    "                                  torch.nn.Linear(in_features=256, out_features=4, bias=True))\n",
    "\n",
    "resnet.to(device)\n",
    "\n",
    "criterionResnet = torch.nn.CrossEntropyLoss()\n",
    "optimizerResnet = torch.optim.Adam(resnet.parameters(), lr=1e-3)\n",
    "criterionResnet.to(device)\n",
    "\n",
    "nEpochResnet = 10"
   ]
  },
  {
   "cell_type": "code",
   "execution_count": null,
   "metadata": {
    "colab": {},
    "colab_type": "code",
    "id": "7ox8_O1Ye-WX"
   },
   "outputs": [],
   "source": []
  },
  {
   "cell_type": "markdown",
   "metadata": {
    "colab_type": "text",
    "id": "Vkkd72xNBukf"
   },
   "source": [
    "###  Entrenamiento del modelo"
   ]
  },
  {
   "cell_type": "code",
   "execution_count": null,
   "metadata": {
    "colab": {
     "base_uri": "https://localhost:8080/",
     "height": 739
    },
    "colab_type": "code",
    "id": "aWsx2FX3Bikr",
    "outputId": "7adf2b26-3b08-48ba-c0cb-4abee816968a"
   },
   "outputs": [
    {
     "name": "stdout",
     "output_type": "stream",
     "text": [
      "Epoch 0/9\n",
      "----------\n",
      "train Loss: 0.8443 Acc: 0.6284\n",
      "entra a guardar...\n",
      "valid Loss: 0.7051 Acc: 0.6565\n",
      "Epoch 1/9\n",
      "----------\n",
      "train Loss: 0.7080 Acc: 0.6948\n",
      "valid Loss: 0.8758 Acc: 0.5930\n",
      "Epoch 2/9\n",
      "----------\n",
      "train Loss: 0.6627 Acc: 0.7130\n",
      "valid Loss: 0.8810 Acc: 0.6020\n",
      "Epoch 3/9\n",
      "----------\n",
      "train Loss: 0.6634 Acc: 0.7120\n",
      "valid Loss: 0.9786 Acc: 0.5805\n",
      "Epoch 4/9\n",
      "----------\n",
      "train Loss: 0.6404 Acc: 0.7210\n",
      "entra a guardar...\n",
      "valid Loss: 0.6888 Acc: 0.6535\n",
      "Epoch 5/9\n",
      "----------\n",
      "train Loss: 0.6238 Acc: 0.7267\n",
      "valid Loss: 0.7593 Acc: 0.6630\n",
      "Epoch 6/9\n",
      "----------\n",
      "train Loss: 0.6227 Acc: 0.7327\n",
      "valid Loss: 0.6936 Acc: 0.6840\n",
      "Epoch 7/9\n",
      "----------\n",
      "train Loss: 0.6132 Acc: 0.7339\n",
      "valid Loss: 0.7408 Acc: 0.6520\n",
      "Epoch 8/9\n",
      "----------\n",
      "train Loss: 0.6185 Acc: 0.7304\n",
      "valid Loss: 0.7952 Acc: 0.6580\n",
      "Epoch 9/9\n",
      "----------\n",
      "train Loss: 0.5908 Acc: 0.7477\n",
      "valid Loss: 0.7588 Acc: 0.6565\n"
     ]
    },
    {
     "data": {
      "text/plain": [
       "<All keys matched successfully>"
      ]
     },
     "execution_count": 128,
     "metadata": {
      "tags": []
     },
     "output_type": "execute_result"
    }
   ],
   "source": [
    "\n",
    "train_model(resnet, dataloaders_dict, criterionResnet, optimizerResnet, nEpochResnet)\n",
    "resnet.load_state_dict(torch.load('best_model.pt')['model_state_dict'])"
   ]
  },
  {
   "cell_type": "markdown",
   "metadata": {
    "colab_type": "text",
    "id": "MU7OGb9cFQU5"
   },
   "source": [
    "### Matriz confución y reporte de clasificación"
   ]
  },
  {
   "cell_type": "code",
   "execution_count": null,
   "metadata": {
    "colab": {
     "base_uri": "https://localhost:8080/",
     "height": 269
    },
    "colab_type": "code",
    "id": "T0j8bK4UCQXe",
    "outputId": "612efe68-fe26-413d-f926-8f77412ced40"
   },
   "outputs": [
    {
     "data": {
      "text/plain": [
       "array([[ 8,  3, 13,  6],\n",
       "       [ 0, 23,  5,  2],\n",
       "       [ 1,  4, 16,  9],\n",
       "       [ 0,  4, 12, 14]])"
      ]
     },
     "metadata": {
      "tags": []
     },
     "output_type": "display_data"
    },
    {
     "name": "stdout",
     "output_type": "stream",
     "text": [
      "              precision    recall  f1-score   support\n",
      "\n",
      "           0       0.89      0.27      0.41        30\n",
      "           1       0.68      0.77      0.72        30\n",
      "           2       0.35      0.53      0.42        30\n",
      "           3       0.45      0.47      0.46        30\n",
      "\n",
      "    accuracy                           0.51       120\n",
      "   macro avg       0.59      0.51      0.50       120\n",
      "weighted avg       0.59      0.51      0.50       120\n",
      "\n"
     ]
    }
   ],
   "source": [
    "resnet.to(device)\n",
    "testing(resnet)"
   ]
  },
  {
   "cell_type": "markdown",
   "metadata": {
    "colab_type": "text",
    "id": "ZgPJ5xvIC95j"
   },
   "source": [
    "# **Modelo AlexNet**"
   ]
  },
  {
   "cell_type": "code",
   "execution_count": null,
   "metadata": {
    "colab": {
     "base_uri": "https://localhost:8080/",
     "height": 83,
     "referenced_widgets": [
      "2dc145dae1614557a4898ac1d3165f92",
      "30d95ac78b804cce90d89c47309790eb",
      "1c33599d584e403db404dfb6a5a414bf",
      "9ed248f1c1b4419893f26bfb6fd99e60",
      "cca500dfc09446bd847e042ea0bd4f8c",
      "6767e39954704329aabad170474ebb4c",
      "34f6946a4c8746df876f17ed97139dde",
      "a41e49055f8747a588caf89b00eefcbe"
     ]
    },
    "colab_type": "code",
    "id": "Bewr0FceHB0r",
    "outputId": "4243e663-961f-4373-9336-d18f9213437e"
   },
   "outputs": [
    {
     "name": "stderr",
     "output_type": "stream",
     "text": [
      "Downloading: \"https://download.pytorch.org/models/alexnet-owt-4df8aa71.pth\" to /root/.cache/torch/hub/checkpoints/alexnet-owt-4df8aa71.pth\n"
     ]
    },
    {
     "data": {
      "application/vnd.jupyter.widget-view+json": {
       "model_id": "2dc145dae1614557a4898ac1d3165f92",
       "version_major": 2,
       "version_minor": 0
      },
      "text/plain": [
       "HBox(children=(FloatProgress(value=0.0, max=244418560.0), HTML(value='')))"
      ]
     },
     "metadata": {
      "tags": []
     },
     "output_type": "display_data"
    },
    {
     "name": "stdout",
     "output_type": "stream",
     "text": [
      "\n"
     ]
    }
   ],
   "source": [
    "alexnet = models.alexnet(pretrained=True, progress=True)"
   ]
  },
  {
   "cell_type": "code",
   "execution_count": null,
   "metadata": {
    "colab": {},
    "colab_type": "code",
    "id": "2uNOMkk4DFeh"
   },
   "outputs": [],
   "source": [
    "for param in alexnet.parameters(): \n",
    "    param.requires_grad = False\n",
    "\n",
    "alexnet.classifier[6] = torch.nn.Linear(alexnet.classifier[6].in_features,4)\n",
    "alexnet.to(device)\n",
    "\n",
    "criterionAlexNet = torch.nn.CrossEntropyLoss()\n",
    "optimizerAlexNet = torch.optim.Adam(alexnet.parameters(), lr=0.0001)\n",
    "criterionAlexNet.to(device)\n",
    "\n",
    "nEpochAlexNet = 10"
   ]
  },
  {
   "cell_type": "markdown",
   "metadata": {
    "colab_type": "text",
    "id": "29wT4AkADKTy"
   },
   "source": [
    "### Entrenamiento del modelo"
   ]
  },
  {
   "cell_type": "code",
   "execution_count": null,
   "metadata": {
    "colab": {
     "base_uri": "https://localhost:8080/",
     "height": 697
    },
    "colab_type": "code",
    "id": "rZrT6745DfOY",
    "outputId": "a20d3cc3-55f0-44a9-ac67-e2531c8d8fd6"
   },
   "outputs": [
    {
     "name": "stdout",
     "output_type": "stream",
     "text": [
      "Epoch 0/9\n",
      "----------\n",
      "train Loss: 0.6638 Acc: 0.7504\n",
      "valid Loss: 0.6942 Acc: 0.6475\n",
      "Epoch 1/9\n",
      "----------\n",
      "train Loss: 0.4209 Acc: 0.8455\n",
      "valid Loss: 0.6559 Acc: 0.6765\n",
      "Epoch 2/9\n",
      "----------\n",
      "train Loss: 0.3756 Acc: 0.8596\n",
      "valid Loss: 0.5741 Acc: 0.7275\n",
      "Epoch 3/9\n",
      "----------\n",
      "train Loss: 0.3458 Acc: 0.8709\n",
      "valid Loss: 0.6584 Acc: 0.7000\n",
      "Epoch 4/9\n",
      "----------\n",
      "train Loss: 0.3207 Acc: 0.8799\n",
      "valid Loss: 0.6556 Acc: 0.7035\n",
      "Epoch 5/9\n",
      "----------\n",
      "train Loss: 0.3102 Acc: 0.8808\n",
      "valid Loss: 0.6626 Acc: 0.7050\n",
      "Epoch 6/9\n",
      "----------\n",
      "train Loss: 0.3037 Acc: 0.8811\n",
      "valid Loss: 0.6549 Acc: 0.7075\n",
      "Epoch 7/9\n",
      "----------\n",
      "train Loss: 0.2900 Acc: 0.8877\n",
      "valid Loss: 0.6323 Acc: 0.7160\n",
      "Epoch 8/9\n",
      "----------\n",
      "train Loss: 0.3003 Acc: 0.8797\n",
      "valid Loss: 0.7319 Acc: 0.7065\n",
      "Epoch 9/9\n",
      "----------\n",
      "train Loss: 0.2723 Acc: 0.8914\n",
      "valid Loss: 0.6637 Acc: 0.7255\n"
     ]
    }
   ],
   "source": [
    "train_model(alexnet, dataloaders_dict, criterionAlexNet, optimizerAlexNet, nEpochAlexNet)"
   ]
  },
  {
   "cell_type": "markdown",
   "metadata": {
    "colab_type": "text",
    "id": "4EZckOTiIfYC"
   },
   "source": [
    "### Matriz de confución y reporte de clasificación"
   ]
  },
  {
   "cell_type": "code",
   "execution_count": null,
   "metadata": {
    "colab": {
     "base_uri": "https://localhost:8080/",
     "height": 272
    },
    "colab_type": "code",
    "id": "tLSOxHT6HfLz",
    "outputId": "f85f8722-a2e4-43a7-c634-a007ce1bd95b"
   },
   "outputs": [
    {
     "data": {
      "text/plain": [
       "array([[ 9,  5,  3, 13],\n",
       "       [ 0, 14,  2, 14],\n",
       "       [ 0, 10,  8, 12],\n",
       "       [ 0,  6,  0, 24]])"
      ]
     },
     "metadata": {
      "tags": []
     },
     "output_type": "display_data"
    },
    {
     "name": "stdout",
     "output_type": "stream",
     "text": [
      "              precision    recall  f1-score   support\n",
      "\n",
      "           0       1.00      0.30      0.46        30\n",
      "           1       0.40      0.47      0.43        30\n",
      "           2       0.62      0.27      0.37        30\n",
      "           3       0.38      0.80      0.52        30\n",
      "\n",
      "    accuracy                           0.46       120\n",
      "   macro avg       0.60      0.46      0.45       120\n",
      "weighted avg       0.60      0.46      0.45       120\n",
      "\n"
     ]
    }
   ],
   "source": [
    "testing(alexnet)"
   ]
  },
  {
   "cell_type": "markdown",
   "metadata": {
    "colab_type": "text",
    "id": "j-9JdgRdM1hk"
   },
   "source": [
    "# **Modelo MobileNet v2**\n"
   ]
  },
  {
   "cell_type": "code",
   "execution_count": null,
   "metadata": {
    "colab": {
     "base_uri": "https://localhost:8080/",
     "height": 83,
     "referenced_widgets": [
      "d0026ad3cbed45cb89d00a71af9285a5",
      "7b8ab18ea3a84c3eb218b1e38b7497d2",
      "a0779a95bc874695bcedd666f0226d6c",
      "2fc52f7286ba430993f93d3a6c428107",
      "f7e6b64b9ebd4fb0af52bacc44358f15",
      "7cee510b95ad4da798c1b939e5ba5f80",
      "4f429d32a8fe4890b34e0c63ec737414",
      "eaaaa177b5a3447ab387d0066103c15c"
     ]
    },
    "colab_type": "code",
    "id": "K_DOck84KcLm",
    "outputId": "e2cad96f-db3d-4e7e-ea6f-d1a529daaa3e"
   },
   "outputs": [
    {
     "name": "stderr",
     "output_type": "stream",
     "text": [
      "Downloading: \"https://download.pytorch.org/models/mobilenet_v2-b0353104.pth\" to /root/.cache/torch/hub/checkpoints/mobilenet_v2-b0353104.pth\n"
     ]
    },
    {
     "data": {
      "application/vnd.jupyter.widget-view+json": {
       "model_id": "d0026ad3cbed45cb89d00a71af9285a5",
       "version_major": 2,
       "version_minor": 0
      },
      "text/plain": [
       "HBox(children=(FloatProgress(value=0.0, max=14212972.0), HTML(value='')))"
      ]
     },
     "metadata": {
      "tags": []
     },
     "output_type": "display_data"
    },
    {
     "name": "stdout",
     "output_type": "stream",
     "text": [
      "\n"
     ]
    }
   ],
   "source": [
    "mobilenet = models.mobilenet_v2(pretrained=True)"
   ]
  },
  {
   "cell_type": "code",
   "execution_count": null,
   "metadata": {
    "colab": {},
    "colab_type": "code",
    "id": "5yQX6-VUNCyZ"
   },
   "outputs": [],
   "source": [
    "for param in mobilenet.parameters(): \n",
    "    param.requires_grad = False\n",
    "\n",
    "mobilenet.classifier[1] = torch.nn.Linear(mobilenet.classifier[1].in_features,4)\n",
    "mobilenet.to(device)\n",
    "\n",
    "criterionMobileNet = torch.nn.CrossEntropyLoss()\n",
    "optimizerMobileNet = torch.optim.Adam(mobilenet.parameters(), lr=1e-3)\n",
    "criterionMobileNet.to(device)\n",
    "\n",
    "nEpochMobileNet = 10\n"
   ]
  },
  {
   "cell_type": "markdown",
   "metadata": {
    "colab_type": "text",
    "id": "ZmOg7KoHSJ7B"
   },
   "source": [
    "### Entrenamiento del modelo"
   ]
  },
  {
   "cell_type": "code",
   "execution_count": null,
   "metadata": {
    "colab": {
     "base_uri": "https://localhost:8080/",
     "height": 697
    },
    "colab_type": "code",
    "id": "kKmk3IjMNKhF",
    "outputId": "a6318569-c2e8-4f8e-9001-da712ddd9293"
   },
   "outputs": [
    {
     "name": "stdout",
     "output_type": "stream",
     "text": [
      "Epoch 0/9\n",
      "----------\n",
      "train Loss: 0.6015 Acc: 0.7492\n",
      "valid Loss: 0.6536 Acc: 0.6870\n",
      "Epoch 1/9\n",
      "----------\n",
      "train Loss: 0.4381 Acc: 0.8269\n",
      "valid Loss: 0.7267 Acc: 0.6660\n",
      "Epoch 2/9\n",
      "----------\n",
      "train Loss: 0.4107 Acc: 0.8343\n",
      "valid Loss: 0.9407 Acc: 0.6265\n",
      "Epoch 3/9\n",
      "----------\n",
      "train Loss: 0.4008 Acc: 0.8329\n",
      "valid Loss: 0.4991 Acc: 0.7925\n",
      "Epoch 4/9\n",
      "----------\n",
      "train Loss: 0.3842 Acc: 0.8451\n",
      "valid Loss: 0.5190 Acc: 0.7855\n",
      "Epoch 5/9\n",
      "----------\n",
      "train Loss: 0.3870 Acc: 0.8418\n",
      "valid Loss: 0.5298 Acc: 0.7880\n",
      "Epoch 6/9\n",
      "----------\n",
      "train Loss: 0.3703 Acc: 0.8504\n",
      "valid Loss: 0.3610 Acc: 0.8730\n",
      "Epoch 7/9\n",
      "----------\n",
      "train Loss: 0.3887 Acc: 0.8418\n",
      "valid Loss: 0.6920 Acc: 0.7110\n",
      "Epoch 8/9\n",
      "----------\n",
      "train Loss: 0.3944 Acc: 0.8371\n",
      "valid Loss: 0.4977 Acc: 0.8060\n",
      "Epoch 9/9\n",
      "----------\n",
      "train Loss: 0.4013 Acc: 0.8375\n",
      "valid Loss: 0.5785 Acc: 0.7485\n"
     ]
    }
   ],
   "source": [
    "train_model(mobilenet, dataloaders_dict, criterionMobileNet, optimizerMobileNet, nEpochMobileNet)"
   ]
  },
  {
   "cell_type": "markdown",
   "metadata": {
    "colab_type": "text",
    "id": "QpBj2B5cUXHz"
   },
   "source": [
    "### Matriz de confución y reporte de clasificación"
   ]
  },
  {
   "cell_type": "code",
   "execution_count": null,
   "metadata": {
    "colab": {
     "base_uri": "https://localhost:8080/",
     "height": 272
    },
    "colab_type": "code",
    "id": "vTKJmXvxQx4r",
    "outputId": "e4d575bd-449c-4782-f3db-f2403d5d19e3"
   },
   "outputs": [
    {
     "data": {
      "text/plain": [
       "array([[11,  0,  5, 14],\n",
       "       [ 0,  8,  7, 15],\n",
       "       [ 0,  0, 16, 14],\n",
       "       [ 0,  0,  6, 24]])"
      ]
     },
     "metadata": {
      "tags": []
     },
     "output_type": "display_data"
    },
    {
     "name": "stdout",
     "output_type": "stream",
     "text": [
      "              precision    recall  f1-score   support\n",
      "\n",
      "           0       1.00      0.37      0.54        30\n",
      "           1       1.00      0.27      0.42        30\n",
      "           2       0.47      0.53      0.50        30\n",
      "           3       0.36      0.80      0.49        30\n",
      "\n",
      "    accuracy                           0.49       120\n",
      "   macro avg       0.71      0.49      0.49       120\n",
      "weighted avg       0.71      0.49      0.49       120\n",
      "\n"
     ]
    }
   ],
   "source": [
    "testing(mobilenet)"
   ]
  },
  {
   "cell_type": "markdown",
   "metadata": {
    "colab_type": "text",
    "id": "7HwmiwWvmGzS"
   },
   "source": [
    "# **Modelo GoogleNet**"
   ]
  },
  {
   "cell_type": "code",
   "execution_count": null,
   "metadata": {
    "colab": {
     "base_uri": "https://localhost:8080/",
     "height": 83,
     "referenced_widgets": [
      "d2c1e3bf0ebd40efaa5c33e2cbd4a2b0",
      "355a9a4c889747278fc3ba16c0717e99",
      "79497084fc054edeb58ed5d86f72ddd2",
      "d5286ef27d3a4034814717e71032ed97",
      "c2e03edc634441c5bc32747e0de5d4f9",
      "705d34c0f51c4956a8633bf8db51dcf6",
      "7178211b078147e0a89d3a1391f6a0cb",
      "7ac09256bf0540bcbc7ce3a1cda5cf79"
     ]
    },
    "colab_type": "code",
    "id": "xqYWHimRUgkr",
    "outputId": "c5ab3760-061b-4e4d-a62f-8afdb10fb45d"
   },
   "outputs": [
    {
     "name": "stderr",
     "output_type": "stream",
     "text": [
      "Downloading: \"https://download.pytorch.org/models/googlenet-1378be20.pth\" to /root/.cache/torch/hub/checkpoints/googlenet-1378be20.pth\n"
     ]
    },
    {
     "data": {
      "application/vnd.jupyter.widget-view+json": {
       "model_id": "d2c1e3bf0ebd40efaa5c33e2cbd4a2b0",
       "version_major": 2,
       "version_minor": 0
      },
      "text/plain": [
       "HBox(children=(FloatProgress(value=0.0, max=52147035.0), HTML(value='')))"
      ]
     },
     "metadata": {
      "tags": []
     },
     "output_type": "display_data"
    },
    {
     "name": "stdout",
     "output_type": "stream",
     "text": [
      "\n"
     ]
    }
   ],
   "source": [
    "googlenet = models.googlenet(pretrained=True, progress=True)"
   ]
  },
  {
   "cell_type": "code",
   "execution_count": null,
   "metadata": {
    "colab": {},
    "colab_type": "code",
    "id": "VEU17sKdmhUp"
   },
   "outputs": [],
   "source": [
    "for param in googlenet.parameters(): \n",
    "    param.requires_grad = False\n",
    "\n"
   ]
  },
  {
   "cell_type": "code",
   "execution_count": null,
   "metadata": {
    "colab": {},
    "colab_type": "code",
    "id": "73DX_Su-besl"
   },
   "outputs": [],
   "source": [
    "\n",
    "googlenet.fc = torch.nn.Sequential(torch.nn.Dropout(p=0.5, inplace=False),\n",
    "                                  torch.nn.Linear(in_features=neuronsG, out_features=512, bias=True),\n",
    "                                  torch.nn.ReLU(inplace=True),\n",
    "                                  torch.nn.Dropout(p=0.5, inplace=False),  \n",
    "                                  torch.nn.Linear(in_features=512, out_features=4, bias=True))\n",
    "#googlenet.fc = torch.nn.Linear(neuronsG, 4)\n",
    "googlenet.to(device)\n",
    "\n",
    "criterionGoogleNet = torch.nn.CrossEntropyLoss()\n",
    "optimizerGoogleNet = torch.optim.Adam(googlenet.parameters(), lr=1e-3)\n",
    "criterionGoogleNet.to(device)  \n",
    "\n",
    "nEpochGoogleNet = 10"
   ]
  },
  {
   "cell_type": "markdown",
   "metadata": {
    "colab_type": "text",
    "id": "SAEoPVbCnetG"
   },
   "source": [
    "### Entrenamiento del modelo"
   ]
  },
  {
   "cell_type": "code",
   "execution_count": null,
   "metadata": {
    "colab": {
     "base_uri": "https://localhost:8080/",
     "height": 697
    },
    "colab_type": "code",
    "id": "MmAt5wX8nNPR",
    "outputId": "1055c0e7-aa02-464c-a4e6-59a6ac2bb3ac"
   },
   "outputs": [
    {
     "name": "stdout",
     "output_type": "stream",
     "text": [
      "Epoch 0/9\n",
      "----------\n",
      "train Loss: 0.6493 Acc: 0.7749\n",
      "valid Loss: 0.5576 Acc: 0.7410\n",
      "Epoch 1/9\n",
      "----------\n",
      "train Loss: 0.4374 Acc: 0.8438\n",
      "valid Loss: 0.6736 Acc: 0.6860\n",
      "Epoch 2/9\n",
      "----------\n",
      "train Loss: 0.3869 Acc: 0.8580\n",
      "valid Loss: 0.4388 Acc: 0.8100\n",
      "Epoch 3/9\n",
      "----------\n",
      "train Loss: 0.3727 Acc: 0.8599\n",
      "valid Loss: 0.5759 Acc: 0.7290\n",
      "Epoch 4/9\n",
      "----------\n",
      "train Loss: 0.3602 Acc: 0.8656\n",
      "valid Loss: 0.4928 Acc: 0.7710\n",
      "Epoch 5/9\n",
      "----------\n",
      "train Loss: 0.3525 Acc: 0.8641\n",
      "valid Loss: 0.5084 Acc: 0.7660\n",
      "Epoch 6/9\n",
      "----------\n",
      "train Loss: 0.3611 Acc: 0.8579\n",
      "valid Loss: 0.5391 Acc: 0.7480\n",
      "Epoch 7/9\n",
      "----------\n",
      "train Loss: 0.3531 Acc: 0.8618\n",
      "valid Loss: 0.5840 Acc: 0.7490\n",
      "Epoch 8/9\n",
      "----------\n",
      "train Loss: 0.3460 Acc: 0.8687\n",
      "valid Loss: 0.4388 Acc: 0.7940\n",
      "Epoch 9/9\n",
      "----------\n",
      "train Loss: 0.3427 Acc: 0.8655\n",
      "valid Loss: 0.6372 Acc: 0.6975\n"
     ]
    }
   ],
   "source": [
    "train_model(googlenet, dataloaders_dict, criterionGoogleNet, optimizerGoogleNet, nEpochGoogleNet)"
   ]
  },
  {
   "cell_type": "markdown",
   "metadata": {
    "colab_type": "text",
    "id": "e_AtRG_dnfwJ"
   },
   "source": [
    "### Matriz de confución"
   ]
  },
  {
   "cell_type": "code",
   "execution_count": null,
   "metadata": {
    "colab": {
     "base_uri": "https://localhost:8080/",
     "height": 272
    },
    "colab_type": "code",
    "id": "DzqMhy02nr1R",
    "outputId": "7264637d-ea97-457e-d51e-0693a0b012a2"
   },
   "outputs": [
    {
     "data": {
      "text/plain": [
       "array([[23,  3,  0,  4],\n",
       "       [ 2, 15,  1, 12],\n",
       "       [ 1,  1, 14, 14],\n",
       "       [ 2,  0, 11, 17]])"
      ]
     },
     "metadata": {
      "tags": []
     },
     "output_type": "display_data"
    },
    {
     "name": "stdout",
     "output_type": "stream",
     "text": [
      "              precision    recall  f1-score   support\n",
      "\n",
      "           0       0.82      0.77      0.79        30\n",
      "           1       0.79      0.50      0.61        30\n",
      "           2       0.54      0.47      0.50        30\n",
      "           3       0.36      0.57      0.44        30\n",
      "\n",
      "    accuracy                           0.57       120\n",
      "   macro avg       0.63      0.57      0.59       120\n",
      "weighted avg       0.63      0.57      0.59       120\n",
      "\n"
     ]
    }
   ],
   "source": [
    "testing(googlenet)"
   ]
  },
  {
   "cell_type": "code",
   "execution_count": null,
   "metadata": {
    "colab": {},
    "colab_type": "code",
    "id": "Q0puEtbvq7gm"
   },
   "outputs": [],
   "source": []
  }
 ],
 "metadata": {
  "accelerator": "GPU",
  "colab": {
   "collapsed_sections": [],
   "name": "Clasificacion_Gestos_IA.ipynb",
   "provenance": [],
   "toc_visible": true
  },
  "kernelspec": {
   "display_name": "Python 3",
   "language": "python",
   "name": "python3"
  },
  "language_info": {
   "codemirror_mode": {
    "name": "ipython",
    "version": 3
   },
   "file_extension": ".py",
   "mimetype": "text/x-python",
   "name": "python",
   "nbconvert_exporter": "python",
   "pygments_lexer": "ipython3",
   "version": "3.8.5"
  },
  "widgets": {
   "application/vnd.jupyter.widget-state+json": {
    "1c33599d584e403db404dfb6a5a414bf": {
     "model_module": "@jupyter-widgets/controls",
     "model_name": "FloatProgressModel",
     "state": {
      "_dom_classes": [],
      "_model_module": "@jupyter-widgets/controls",
      "_model_module_version": "1.5.0",
      "_model_name": "FloatProgressModel",
      "_view_count": null,
      "_view_module": "@jupyter-widgets/controls",
      "_view_module_version": "1.5.0",
      "_view_name": "ProgressView",
      "bar_style": "success",
      "description": "100%",
      "description_tooltip": null,
      "layout": "IPY_MODEL_6767e39954704329aabad170474ebb4c",
      "max": 244418560,
      "min": 0,
      "orientation": "horizontal",
      "style": "IPY_MODEL_cca500dfc09446bd847e042ea0bd4f8c",
      "value": 244418560
     }
    },
    "2dc145dae1614557a4898ac1d3165f92": {
     "model_module": "@jupyter-widgets/controls",
     "model_name": "HBoxModel",
     "state": {
      "_dom_classes": [],
      "_model_module": "@jupyter-widgets/controls",
      "_model_module_version": "1.5.0",
      "_model_name": "HBoxModel",
      "_view_count": null,
      "_view_module": "@jupyter-widgets/controls",
      "_view_module_version": "1.5.0",
      "_view_name": "HBoxView",
      "box_style": "",
      "children": [
       "IPY_MODEL_1c33599d584e403db404dfb6a5a414bf",
       "IPY_MODEL_9ed248f1c1b4419893f26bfb6fd99e60"
      ],
      "layout": "IPY_MODEL_30d95ac78b804cce90d89c47309790eb"
     }
    },
    "2fc52f7286ba430993f93d3a6c428107": {
     "model_module": "@jupyter-widgets/controls",
     "model_name": "HTMLModel",
     "state": {
      "_dom_classes": [],
      "_model_module": "@jupyter-widgets/controls",
      "_model_module_version": "1.5.0",
      "_model_name": "HTMLModel",
      "_view_count": null,
      "_view_module": "@jupyter-widgets/controls",
      "_view_module_version": "1.5.0",
      "_view_name": "HTMLView",
      "description": "",
      "description_tooltip": null,
      "layout": "IPY_MODEL_eaaaa177b5a3447ab387d0066103c15c",
      "placeholder": "​",
      "style": "IPY_MODEL_4f429d32a8fe4890b34e0c63ec737414",
      "value": " 13.6M/13.6M [13:11&lt;00:00, 18.0kB/s]"
     }
    },
    "30d95ac78b804cce90d89c47309790eb": {
     "model_module": "@jupyter-widgets/base",
     "model_name": "LayoutModel",
     "state": {
      "_model_module": "@jupyter-widgets/base",
      "_model_module_version": "1.2.0",
      "_model_name": "LayoutModel",
      "_view_count": null,
      "_view_module": "@jupyter-widgets/base",
      "_view_module_version": "1.2.0",
      "_view_name": "LayoutView",
      "align_content": null,
      "align_items": null,
      "align_self": null,
      "border": null,
      "bottom": null,
      "display": null,
      "flex": null,
      "flex_flow": null,
      "grid_area": null,
      "grid_auto_columns": null,
      "grid_auto_flow": null,
      "grid_auto_rows": null,
      "grid_column": null,
      "grid_gap": null,
      "grid_row": null,
      "grid_template_areas": null,
      "grid_template_columns": null,
      "grid_template_rows": null,
      "height": null,
      "justify_content": null,
      "justify_items": null,
      "left": null,
      "margin": null,
      "max_height": null,
      "max_width": null,
      "min_height": null,
      "min_width": null,
      "object_fit": null,
      "object_position": null,
      "order": null,
      "overflow": null,
      "overflow_x": null,
      "overflow_y": null,
      "padding": null,
      "right": null,
      "top": null,
      "visibility": null,
      "width": null
     }
    },
    "34f6946a4c8746df876f17ed97139dde": {
     "model_module": "@jupyter-widgets/controls",
     "model_name": "DescriptionStyleModel",
     "state": {
      "_model_module": "@jupyter-widgets/controls",
      "_model_module_version": "1.5.0",
      "_model_name": "DescriptionStyleModel",
      "_view_count": null,
      "_view_module": "@jupyter-widgets/base",
      "_view_module_version": "1.2.0",
      "_view_name": "StyleView",
      "description_width": ""
     }
    },
    "355a9a4c889747278fc3ba16c0717e99": {
     "model_module": "@jupyter-widgets/base",
     "model_name": "LayoutModel",
     "state": {
      "_model_module": "@jupyter-widgets/base",
      "_model_module_version": "1.2.0",
      "_model_name": "LayoutModel",
      "_view_count": null,
      "_view_module": "@jupyter-widgets/base",
      "_view_module_version": "1.2.0",
      "_view_name": "LayoutView",
      "align_content": null,
      "align_items": null,
      "align_self": null,
      "border": null,
      "bottom": null,
      "display": null,
      "flex": null,
      "flex_flow": null,
      "grid_area": null,
      "grid_auto_columns": null,
      "grid_auto_flow": null,
      "grid_auto_rows": null,
      "grid_column": null,
      "grid_gap": null,
      "grid_row": null,
      "grid_template_areas": null,
      "grid_template_columns": null,
      "grid_template_rows": null,
      "height": null,
      "justify_content": null,
      "justify_items": null,
      "left": null,
      "margin": null,
      "max_height": null,
      "max_width": null,
      "min_height": null,
      "min_width": null,
      "object_fit": null,
      "object_position": null,
      "order": null,
      "overflow": null,
      "overflow_x": null,
      "overflow_y": null,
      "padding": null,
      "right": null,
      "top": null,
      "visibility": null,
      "width": null
     }
    },
    "4f429d32a8fe4890b34e0c63ec737414": {
     "model_module": "@jupyter-widgets/controls",
     "model_name": "DescriptionStyleModel",
     "state": {
      "_model_module": "@jupyter-widgets/controls",
      "_model_module_version": "1.5.0",
      "_model_name": "DescriptionStyleModel",
      "_view_count": null,
      "_view_module": "@jupyter-widgets/base",
      "_view_module_version": "1.2.0",
      "_view_name": "StyleView",
      "description_width": ""
     }
    },
    "6767e39954704329aabad170474ebb4c": {
     "model_module": "@jupyter-widgets/base",
     "model_name": "LayoutModel",
     "state": {
      "_model_module": "@jupyter-widgets/base",
      "_model_module_version": "1.2.0",
      "_model_name": "LayoutModel",
      "_view_count": null,
      "_view_module": "@jupyter-widgets/base",
      "_view_module_version": "1.2.0",
      "_view_name": "LayoutView",
      "align_content": null,
      "align_items": null,
      "align_self": null,
      "border": null,
      "bottom": null,
      "display": null,
      "flex": null,
      "flex_flow": null,
      "grid_area": null,
      "grid_auto_columns": null,
      "grid_auto_flow": null,
      "grid_auto_rows": null,
      "grid_column": null,
      "grid_gap": null,
      "grid_row": null,
      "grid_template_areas": null,
      "grid_template_columns": null,
      "grid_template_rows": null,
      "height": null,
      "justify_content": null,
      "justify_items": null,
      "left": null,
      "margin": null,
      "max_height": null,
      "max_width": null,
      "min_height": null,
      "min_width": null,
      "object_fit": null,
      "object_position": null,
      "order": null,
      "overflow": null,
      "overflow_x": null,
      "overflow_y": null,
      "padding": null,
      "right": null,
      "top": null,
      "visibility": null,
      "width": null
     }
    },
    "705d34c0f51c4956a8633bf8db51dcf6": {
     "model_module": "@jupyter-widgets/base",
     "model_name": "LayoutModel",
     "state": {
      "_model_module": "@jupyter-widgets/base",
      "_model_module_version": "1.2.0",
      "_model_name": "LayoutModel",
      "_view_count": null,
      "_view_module": "@jupyter-widgets/base",
      "_view_module_version": "1.2.0",
      "_view_name": "LayoutView",
      "align_content": null,
      "align_items": null,
      "align_self": null,
      "border": null,
      "bottom": null,
      "display": null,
      "flex": null,
      "flex_flow": null,
      "grid_area": null,
      "grid_auto_columns": null,
      "grid_auto_flow": null,
      "grid_auto_rows": null,
      "grid_column": null,
      "grid_gap": null,
      "grid_row": null,
      "grid_template_areas": null,
      "grid_template_columns": null,
      "grid_template_rows": null,
      "height": null,
      "justify_content": null,
      "justify_items": null,
      "left": null,
      "margin": null,
      "max_height": null,
      "max_width": null,
      "min_height": null,
      "min_width": null,
      "object_fit": null,
      "object_position": null,
      "order": null,
      "overflow": null,
      "overflow_x": null,
      "overflow_y": null,
      "padding": null,
      "right": null,
      "top": null,
      "visibility": null,
      "width": null
     }
    },
    "7178211b078147e0a89d3a1391f6a0cb": {
     "model_module": "@jupyter-widgets/controls",
     "model_name": "DescriptionStyleModel",
     "state": {
      "_model_module": "@jupyter-widgets/controls",
      "_model_module_version": "1.5.0",
      "_model_name": "DescriptionStyleModel",
      "_view_count": null,
      "_view_module": "@jupyter-widgets/base",
      "_view_module_version": "1.2.0",
      "_view_name": "StyleView",
      "description_width": ""
     }
    },
    "79497084fc054edeb58ed5d86f72ddd2": {
     "model_module": "@jupyter-widgets/controls",
     "model_name": "FloatProgressModel",
     "state": {
      "_dom_classes": [],
      "_model_module": "@jupyter-widgets/controls",
      "_model_module_version": "1.5.0",
      "_model_name": "FloatProgressModel",
      "_view_count": null,
      "_view_module": "@jupyter-widgets/controls",
      "_view_module_version": "1.5.0",
      "_view_name": "ProgressView",
      "bar_style": "success",
      "description": "100%",
      "description_tooltip": null,
      "layout": "IPY_MODEL_705d34c0f51c4956a8633bf8db51dcf6",
      "max": 52147035,
      "min": 0,
      "orientation": "horizontal",
      "style": "IPY_MODEL_c2e03edc634441c5bc32747e0de5d4f9",
      "value": 52147035
     }
    },
    "7ac09256bf0540bcbc7ce3a1cda5cf79": {
     "model_module": "@jupyter-widgets/base",
     "model_name": "LayoutModel",
     "state": {
      "_model_module": "@jupyter-widgets/base",
      "_model_module_version": "1.2.0",
      "_model_name": "LayoutModel",
      "_view_count": null,
      "_view_module": "@jupyter-widgets/base",
      "_view_module_version": "1.2.0",
      "_view_name": "LayoutView",
      "align_content": null,
      "align_items": null,
      "align_self": null,
      "border": null,
      "bottom": null,
      "display": null,
      "flex": null,
      "flex_flow": null,
      "grid_area": null,
      "grid_auto_columns": null,
      "grid_auto_flow": null,
      "grid_auto_rows": null,
      "grid_column": null,
      "grid_gap": null,
      "grid_row": null,
      "grid_template_areas": null,
      "grid_template_columns": null,
      "grid_template_rows": null,
      "height": null,
      "justify_content": null,
      "justify_items": null,
      "left": null,
      "margin": null,
      "max_height": null,
      "max_width": null,
      "min_height": null,
      "min_width": null,
      "object_fit": null,
      "object_position": null,
      "order": null,
      "overflow": null,
      "overflow_x": null,
      "overflow_y": null,
      "padding": null,
      "right": null,
      "top": null,
      "visibility": null,
      "width": null
     }
    },
    "7b8ab18ea3a84c3eb218b1e38b7497d2": {
     "model_module": "@jupyter-widgets/base",
     "model_name": "LayoutModel",
     "state": {
      "_model_module": "@jupyter-widgets/base",
      "_model_module_version": "1.2.0",
      "_model_name": "LayoutModel",
      "_view_count": null,
      "_view_module": "@jupyter-widgets/base",
      "_view_module_version": "1.2.0",
      "_view_name": "LayoutView",
      "align_content": null,
      "align_items": null,
      "align_self": null,
      "border": null,
      "bottom": null,
      "display": null,
      "flex": null,
      "flex_flow": null,
      "grid_area": null,
      "grid_auto_columns": null,
      "grid_auto_flow": null,
      "grid_auto_rows": null,
      "grid_column": null,
      "grid_gap": null,
      "grid_row": null,
      "grid_template_areas": null,
      "grid_template_columns": null,
      "grid_template_rows": null,
      "height": null,
      "justify_content": null,
      "justify_items": null,
      "left": null,
      "margin": null,
      "max_height": null,
      "max_width": null,
      "min_height": null,
      "min_width": null,
      "object_fit": null,
      "object_position": null,
      "order": null,
      "overflow": null,
      "overflow_x": null,
      "overflow_y": null,
      "padding": null,
      "right": null,
      "top": null,
      "visibility": null,
      "width": null
     }
    },
    "7cee510b95ad4da798c1b939e5ba5f80": {
     "model_module": "@jupyter-widgets/base",
     "model_name": "LayoutModel",
     "state": {
      "_model_module": "@jupyter-widgets/base",
      "_model_module_version": "1.2.0",
      "_model_name": "LayoutModel",
      "_view_count": null,
      "_view_module": "@jupyter-widgets/base",
      "_view_module_version": "1.2.0",
      "_view_name": "LayoutView",
      "align_content": null,
      "align_items": null,
      "align_self": null,
      "border": null,
      "bottom": null,
      "display": null,
      "flex": null,
      "flex_flow": null,
      "grid_area": null,
      "grid_auto_columns": null,
      "grid_auto_flow": null,
      "grid_auto_rows": null,
      "grid_column": null,
      "grid_gap": null,
      "grid_row": null,
      "grid_template_areas": null,
      "grid_template_columns": null,
      "grid_template_rows": null,
      "height": null,
      "justify_content": null,
      "justify_items": null,
      "left": null,
      "margin": null,
      "max_height": null,
      "max_width": null,
      "min_height": null,
      "min_width": null,
      "object_fit": null,
      "object_position": null,
      "order": null,
      "overflow": null,
      "overflow_x": null,
      "overflow_y": null,
      "padding": null,
      "right": null,
      "top": null,
      "visibility": null,
      "width": null
     }
    },
    "9ed248f1c1b4419893f26bfb6fd99e60": {
     "model_module": "@jupyter-widgets/controls",
     "model_name": "HTMLModel",
     "state": {
      "_dom_classes": [],
      "_model_module": "@jupyter-widgets/controls",
      "_model_module_version": "1.5.0",
      "_model_name": "HTMLModel",
      "_view_count": null,
      "_view_module": "@jupyter-widgets/controls",
      "_view_module_version": "1.5.0",
      "_view_name": "HTMLView",
      "description": "",
      "description_tooltip": null,
      "layout": "IPY_MODEL_a41e49055f8747a588caf89b00eefcbe",
      "placeholder": "​",
      "style": "IPY_MODEL_34f6946a4c8746df876f17ed97139dde",
      "value": " 233M/233M [27:16&lt;00:00, 149kB/s]"
     }
    },
    "a0779a95bc874695bcedd666f0226d6c": {
     "model_module": "@jupyter-widgets/controls",
     "model_name": "FloatProgressModel",
     "state": {
      "_dom_classes": [],
      "_model_module": "@jupyter-widgets/controls",
      "_model_module_version": "1.5.0",
      "_model_name": "FloatProgressModel",
      "_view_count": null,
      "_view_module": "@jupyter-widgets/controls",
      "_view_module_version": "1.5.0",
      "_view_name": "ProgressView",
      "bar_style": "success",
      "description": "100%",
      "description_tooltip": null,
      "layout": "IPY_MODEL_7cee510b95ad4da798c1b939e5ba5f80",
      "max": 14212972,
      "min": 0,
      "orientation": "horizontal",
      "style": "IPY_MODEL_f7e6b64b9ebd4fb0af52bacc44358f15",
      "value": 14212972
     }
    },
    "a41e49055f8747a588caf89b00eefcbe": {
     "model_module": "@jupyter-widgets/base",
     "model_name": "LayoutModel",
     "state": {
      "_model_module": "@jupyter-widgets/base",
      "_model_module_version": "1.2.0",
      "_model_name": "LayoutModel",
      "_view_count": null,
      "_view_module": "@jupyter-widgets/base",
      "_view_module_version": "1.2.0",
      "_view_name": "LayoutView",
      "align_content": null,
      "align_items": null,
      "align_self": null,
      "border": null,
      "bottom": null,
      "display": null,
      "flex": null,
      "flex_flow": null,
      "grid_area": null,
      "grid_auto_columns": null,
      "grid_auto_flow": null,
      "grid_auto_rows": null,
      "grid_column": null,
      "grid_gap": null,
      "grid_row": null,
      "grid_template_areas": null,
      "grid_template_columns": null,
      "grid_template_rows": null,
      "height": null,
      "justify_content": null,
      "justify_items": null,
      "left": null,
      "margin": null,
      "max_height": null,
      "max_width": null,
      "min_height": null,
      "min_width": null,
      "object_fit": null,
      "object_position": null,
      "order": null,
      "overflow": null,
      "overflow_x": null,
      "overflow_y": null,
      "padding": null,
      "right": null,
      "top": null,
      "visibility": null,
      "width": null
     }
    },
    "c2e03edc634441c5bc32747e0de5d4f9": {
     "model_module": "@jupyter-widgets/controls",
     "model_name": "ProgressStyleModel",
     "state": {
      "_model_module": "@jupyter-widgets/controls",
      "_model_module_version": "1.5.0",
      "_model_name": "ProgressStyleModel",
      "_view_count": null,
      "_view_module": "@jupyter-widgets/base",
      "_view_module_version": "1.2.0",
      "_view_name": "StyleView",
      "bar_color": null,
      "description_width": "initial"
     }
    },
    "cca500dfc09446bd847e042ea0bd4f8c": {
     "model_module": "@jupyter-widgets/controls",
     "model_name": "ProgressStyleModel",
     "state": {
      "_model_module": "@jupyter-widgets/controls",
      "_model_module_version": "1.5.0",
      "_model_name": "ProgressStyleModel",
      "_view_count": null,
      "_view_module": "@jupyter-widgets/base",
      "_view_module_version": "1.2.0",
      "_view_name": "StyleView",
      "bar_color": null,
      "description_width": "initial"
     }
    },
    "d0026ad3cbed45cb89d00a71af9285a5": {
     "model_module": "@jupyter-widgets/controls",
     "model_name": "HBoxModel",
     "state": {
      "_dom_classes": [],
      "_model_module": "@jupyter-widgets/controls",
      "_model_module_version": "1.5.0",
      "_model_name": "HBoxModel",
      "_view_count": null,
      "_view_module": "@jupyter-widgets/controls",
      "_view_module_version": "1.5.0",
      "_view_name": "HBoxView",
      "box_style": "",
      "children": [
       "IPY_MODEL_a0779a95bc874695bcedd666f0226d6c",
       "IPY_MODEL_2fc52f7286ba430993f93d3a6c428107"
      ],
      "layout": "IPY_MODEL_7b8ab18ea3a84c3eb218b1e38b7497d2"
     }
    },
    "d2c1e3bf0ebd40efaa5c33e2cbd4a2b0": {
     "model_module": "@jupyter-widgets/controls",
     "model_name": "HBoxModel",
     "state": {
      "_dom_classes": [],
      "_model_module": "@jupyter-widgets/controls",
      "_model_module_version": "1.5.0",
      "_model_name": "HBoxModel",
      "_view_count": null,
      "_view_module": "@jupyter-widgets/controls",
      "_view_module_version": "1.5.0",
      "_view_name": "HBoxView",
      "box_style": "",
      "children": [
       "IPY_MODEL_79497084fc054edeb58ed5d86f72ddd2",
       "IPY_MODEL_d5286ef27d3a4034814717e71032ed97"
      ],
      "layout": "IPY_MODEL_355a9a4c889747278fc3ba16c0717e99"
     }
    },
    "d5286ef27d3a4034814717e71032ed97": {
     "model_module": "@jupyter-widgets/controls",
     "model_name": "HTMLModel",
     "state": {
      "_dom_classes": [],
      "_model_module": "@jupyter-widgets/controls",
      "_model_module_version": "1.5.0",
      "_model_name": "HTMLModel",
      "_view_count": null,
      "_view_module": "@jupyter-widgets/controls",
      "_view_module_version": "1.5.0",
      "_view_name": "HTMLView",
      "description": "",
      "description_tooltip": null,
      "layout": "IPY_MODEL_7ac09256bf0540bcbc7ce3a1cda5cf79",
      "placeholder": "​",
      "style": "IPY_MODEL_7178211b078147e0a89d3a1391f6a0cb",
      "value": " 49.7M/49.7M [05:30&lt;00:00, 158kB/s]"
     }
    },
    "eaaaa177b5a3447ab387d0066103c15c": {
     "model_module": "@jupyter-widgets/base",
     "model_name": "LayoutModel",
     "state": {
      "_model_module": "@jupyter-widgets/base",
      "_model_module_version": "1.2.0",
      "_model_name": "LayoutModel",
      "_view_count": null,
      "_view_module": "@jupyter-widgets/base",
      "_view_module_version": "1.2.0",
      "_view_name": "LayoutView",
      "align_content": null,
      "align_items": null,
      "align_self": null,
      "border": null,
      "bottom": null,
      "display": null,
      "flex": null,
      "flex_flow": null,
      "grid_area": null,
      "grid_auto_columns": null,
      "grid_auto_flow": null,
      "grid_auto_rows": null,
      "grid_column": null,
      "grid_gap": null,
      "grid_row": null,
      "grid_template_areas": null,
      "grid_template_columns": null,
      "grid_template_rows": null,
      "height": null,
      "justify_content": null,
      "justify_items": null,
      "left": null,
      "margin": null,
      "max_height": null,
      "max_width": null,
      "min_height": null,
      "min_width": null,
      "object_fit": null,
      "object_position": null,
      "order": null,
      "overflow": null,
      "overflow_x": null,
      "overflow_y": null,
      "padding": null,
      "right": null,
      "top": null,
      "visibility": null,
      "width": null
     }
    },
    "f7e6b64b9ebd4fb0af52bacc44358f15": {
     "model_module": "@jupyter-widgets/controls",
     "model_name": "ProgressStyleModel",
     "state": {
      "_model_module": "@jupyter-widgets/controls",
      "_model_module_version": "1.5.0",
      "_model_name": "ProgressStyleModel",
      "_view_count": null,
      "_view_module": "@jupyter-widgets/base",
      "_view_module_version": "1.2.0",
      "_view_name": "StyleView",
      "bar_color": null,
      "description_width": "initial"
     }
    }
   }
  }
 },
 "nbformat": 4,
 "nbformat_minor": 1
}
